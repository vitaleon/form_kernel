{
 "cells": [
  {
   "cell_type": "code",
   "execution_count": 1,
   "metadata": {},
   "outputs": [],
   "source": [
    "S a1,...,a3;"
   ]
  },
  {
   "cell_type": "code",
   "execution_count": 2,
   "metadata": {},
   "outputs": [],
   "source": [
    "L F1 = a1;"
   ]
  },
  {
   "cell_type": "code",
   "execution_count": 3,
   "metadata": {},
   "outputs": [],
   "source": [
    "L F2 = a2;"
   ]
  },
  {
   "cell_type": "code",
   "execution_count": 4,
   "metadata": {},
   "outputs": [],
   "source": [
    "L F3 = a3;"
   ]
  },
  {
   "cell_type": "code",
   "execution_count": 5,
   "metadata": {},
   "outputs": [],
   "source": [
    ".sort"
   ]
  },
  {
   "cell_type": "code",
   "execution_count": 6,
   "metadata": {},
   "outputs": [
    {
     "name": "stdout",
     "output_type": "stream",
     "text": [
      "a1"
     ]
    }
   ],
   "source": [
    "read F1"
   ]
  }
 ],
 "metadata": {
  "kernelspec": {
   "display_name": "FORM",
   "language": "FORM",
   "name": "form"
  },
  "language_info": {
   "codemirror_mode": "form",
   "file_extension": ".frm",
   "mimetype": "text/plain",
   "name": "FORM"
  }
 },
 "nbformat": 4,
 "nbformat_minor": 2
}
